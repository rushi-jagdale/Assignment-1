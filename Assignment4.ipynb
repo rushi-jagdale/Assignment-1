{
  "nbformat": 4,
  "nbformat_minor": 0,
  "metadata": {
    "colab": {
      "provenance": []
    },
    "kernelspec": {
      "name": "python3",
      "display_name": "Python 3"
    },
    "language_info": {
      "name": "python"
    }
  },
  "cells": [
    {
      "cell_type": "code",
      "execution_count": null,
      "metadata": {
        "id": "Q00L0oDYZWkm"
      },
      "outputs": [],
      "source": []
    },
    {
      "cell_type": "markdown",
      "source": [
        "## Import libraries"
      ],
      "metadata": {
        "id": "smG4PwrNZkc_"
      }
    },
    {
      "cell_type": "code",
      "source": [
        "import numpy as np\n",
        "import pandas as pd\n",
        "from sklearn.datasets import fetch_california_housing\n",
        "from sklearn.model_selection import train_test_split\n",
        "from sklearn.preprocessing import StandardScaler\n",
        "from sklearn.metrics import mean_squared_error, r2_score\n",
        "\n",
        "# Regression Models\n",
        "from sklearn.linear_model import LinearRegression, Ridge, Lasso\n",
        "from sklearn.svm import SVR\n",
        "from sklearn.tree import DecisionTreeRegressor\n",
        "from sklearn.ensemble import RandomForestRegressor"
      ],
      "metadata": {
        "id": "olghBJzkZnPj"
      },
      "execution_count": 2,
      "outputs": []
    },
    {
      "cell_type": "markdown",
      "source": [
        "## Load California Housing Dataset"
      ],
      "metadata": {
        "id": "z3Wrsa78JMSf"
      }
    },
    {
      "cell_type": "code",
      "source": [
        "# Load California Housing dataset\n",
        "california = fetch_california_housing()\n",
        "X = pd.DataFrame(california.data, columns=california.feature_names)\n",
        "y = pd.Series(california.target, name='MedHouseVal')  # Median House Value"
      ],
      "metadata": {
        "id": "YgPxlY01ai7Z"
      },
      "execution_count": 3,
      "outputs": []
    },
    {
      "cell_type": "markdown",
      "source": [
        "## Split Data into Training and Test Sets"
      ],
      "metadata": {
        "id": "9mvowlQLJZAo"
      }
    },
    {
      "cell_type": "code",
      "source": [
        "# Split into 80% training and 20% testing\n",
        "X_train, X_test, y_train, y_test = train_test_split(\n",
        "    X, y, test_size=0.2, random_state=42\n",
        ")"
      ],
      "metadata": {
        "id": "GoJ4Ru0PbG0v"
      },
      "execution_count": 4,
      "outputs": []
    },
    {
      "cell_type": "markdown",
      "source": [
        "## Preprocess Data"
      ],
      "metadata": {
        "id": "dg2GTn60JfAN"
      }
    },
    {
      "cell_type": "code",
      "source": [],
      "metadata": {
        "id": "EgddoFBdJd9y"
      },
      "execution_count": null,
      "outputs": []
    },
    {
      "cell_type": "code",
      "source": [
        "# Standardize features (important for models like SVR)\n",
        "scaler = StandardScaler()\n",
        "X_train_scaled = scaler.fit_transform(X_train)\n",
        "X_test_scaled = scaler.transform(X_test)"
      ],
      "metadata": {
        "id": "khYT4zyIbJyZ"
      },
      "execution_count": 5,
      "outputs": []
    },
    {
      "cell_type": "markdown",
      "source": [
        "## Train and Evaluate Models"
      ],
      "metadata": {
        "id": "9cZlzE_1JkFD"
      }
    },
    {
      "cell_type": "code",
      "source": [
        "# Define regression models to test\n",
        "models = {\n",
        "    \"Linear Regression\": LinearRegression(),\n",
        "    \"Ridge Regression\": Ridge(alpha=1.0),\n",
        "    \"Lasso Regression\": Lasso(alpha=1.0),\n",
        "    \"Support Vector Regression\": SVR(kernel='rbf'),\n",
        "    \"Decision Tree\": DecisionTreeRegressor(random_state=42),\n",
        "    \"Random Forest\": RandomForestRegressor(random_state=42)\n",
        "}\n",
        "\n",
        "# Evaluate each model\n",
        "results = []\n",
        "for name, model in models.items():\n",
        "    model.fit(X_train_scaled, y_train)\n",
        "    y_pred = model.predict(X_test_scaled)\n",
        "    mse = mean_squared_error(y_test, y_pred)\n",
        "    r2 = r2_score(y_test, y_pred)\n",
        "    results.append((name, mse, r2))\n",
        "\n",
        "# Display results\n",
        "results_df = pd.DataFrame(results, columns=[\"Model\", \"MSE\", \"R²\"])\n",
        "print(results_df)"
      ],
      "metadata": {
        "colab": {
          "base_uri": "https://localhost:8080/"
        },
        "id": "-bvafhz1bMHq",
        "outputId": "ab417eea-90c0-4143-a883-9eb00d4bfecd"
      },
      "execution_count": 6,
      "outputs": [
        {
          "output_type": "stream",
          "name": "stdout",
          "text": [
            "                       Model       MSE        R²\n",
            "0          Linear Regression  0.555892  0.575788\n",
            "1           Ridge Regression  0.555855  0.575816\n",
            "2           Lasso Regression  1.310696 -0.000219\n",
            "3  Support Vector Regression  0.357004  0.727563\n",
            "4              Decision Tree  0.493969  0.623042\n",
            "5              Random Forest  0.255170  0.805275\n"
          ]
        }
      ]
    },
    {
      "cell_type": "markdown",
      "source": [
        "## Feature Importance (Random Forest)"
      ],
      "metadata": {
        "id": "t7PbN3bpJp7Y"
      }
    },
    {
      "cell_type": "code",
      "source": [
        "# Get feature importances for the best model (Random Forest)\n",
        "importances = pd.DataFrame({\n",
        "    \"Feature\": california.feature_names,\n",
        "    \"Importance\": models[\"Random Forest\"].feature_importances_\n",
        "}).sort_values(by=\"Importance\", ascending=False)\n",
        "\n",
        "print(importances)"
      ],
      "metadata": {
        "colab": {
          "base_uri": "https://localhost:8080/"
        },
        "id": "PCyFgKqcbN_a",
        "outputId": "26428719-a763-41dc-962a-194e260afe13"
      },
      "execution_count": 7,
      "outputs": [
        {
          "output_type": "stream",
          "name": "stdout",
          "text": [
            "      Feature  Importance\n",
            "0      MedInc    0.524871\n",
            "5    AveOccup    0.138443\n",
            "6    Latitude    0.088936\n",
            "7   Longitude    0.088629\n",
            "1    HouseAge    0.054593\n",
            "2    AveRooms    0.044272\n",
            "4  Population    0.030650\n",
            "3   AveBedrms    0.029606\n"
          ]
        }
      ]
    },
    {
      "cell_type": "markdown",
      "source": [
        "## Test with a Sample from the Test Set"
      ],
      "metadata": {
        "id": "90xxBPzQK8RN"
      }
    },
    {
      "cell_type": "code",
      "source": [
        "# Select the first row of the test set (unscaled)\n",
        "sample = X_test.iloc[0:1]  # Keep as DataFrame to preserve column names\n",
        "\n",
        "# Scale the sample\n",
        "sample_scaled = scaler.transform(sample)\n",
        "\n",
        "# Predict\n",
        "prediction = model.predict(sample_scaled)\n",
        "\n",
        "# Actual value from y_test\n",
        "actual = y_test.iloc[0]\n",
        "\n",
        "print(\"Sample from Test Set:\")\n",
        "print(sample)\n",
        "print(f\"\\nPredicted MedHouseVal: {prediction[0]:.2f} ($100,000s)\")\n",
        "print(f\"Actual MedHouseVal: {actual:.2f} ($100,000s)\")"
      ],
      "metadata": {
        "colab": {
          "base_uri": "https://localhost:8080/"
        },
        "id": "wBRAwL7nbSVn",
        "outputId": "8dfaecb3-6031-4ac8-c3be-2f5863d1f0ef"
      },
      "execution_count": 8,
      "outputs": [
        {
          "output_type": "stream",
          "name": "stdout",
          "text": [
            "Sample from Test Set:\n",
            "       MedInc  HouseAge  AveRooms  AveBedrms  Population  AveOccup  Latitude  \\\n",
            "20046  1.6812      25.0  4.192201   1.022284      1392.0  3.877437     36.06   \n",
            "\n",
            "       Longitude  \n",
            "20046    -119.01  \n",
            "\n",
            "Predicted MedHouseVal: 0.51 ($100,000s)\n",
            "Actual MedHouseVal: 0.48 ($100,000s)\n"
          ]
        }
      ]
    },
    {
      "cell_type": "markdown",
      "source": [
        "## Test with Hypothetical Data"
      ],
      "metadata": {
        "id": "6GU-43mnLhAM"
      }
    },
    {
      "cell_type": "code",
      "source": [
        "\n",
        "hypothetical_data = pd.DataFrame({\n",
        "    \"MedInc\": [3.0],          # Median income\n",
        "    \"HouseAge\": [25.0],       # House age\n",
        "    \"AveRooms\": [4.0],        # Avg rooms per household\n",
        "    \"AveBedrms\": [1.0],       # Avg bedrooms per household\n",
        "    \"Population\": [1000.0],   # Population\n",
        "    \"AveOccup\": [2.0],        # Avg household members\n",
        "    \"Latitude\": [34.05],      # Latitude\n",
        "    \"Longitude\": [-118.24]    # Longitude\n",
        "})\n",
        "\n",
        "# Scale the data\n",
        "hypothetical_scaled = scaler.transform(hypothetical_data)\n",
        "\n",
        "# Predict\n",
        "hypothetical_pred = model.predict(hypothetical_scaled)\n",
        "\n",
        "print(\"\\nHypothetical Input:\")\n",
        "print(hypothetical_data)\n",
        "print(f\"\\nPredicted MedHouseVal: {hypothetical_pred[0]:.2f} ($100,000s)\")"
      ],
      "metadata": {
        "colab": {
          "base_uri": "https://localhost:8080/"
        },
        "id": "GL20DgNXKbLM",
        "outputId": "071f7ed8-bf99-498e-c242-461549efe100"
      },
      "execution_count": 10,
      "outputs": [
        {
          "output_type": "stream",
          "name": "stdout",
          "text": [
            "\n",
            "Hypothetical Input:\n",
            "   MedInc  HouseAge  AveRooms  AveBedrms  Population  AveOccup  Latitude  \\\n",
            "0     3.0      25.0       4.0        1.0      1000.0       2.0     34.05   \n",
            "\n",
            "   Longitude  \n",
            "0    -118.24  \n",
            "\n",
            "Predicted MedHouseVal: 2.21 ($100,000s)\n"
          ]
        }
      ]
    },
    {
      "cell_type": "code",
      "source": [],
      "metadata": {
        "id": "pKfprZt3LFXQ"
      },
      "execution_count": null,
      "outputs": []
    }
  ]
}